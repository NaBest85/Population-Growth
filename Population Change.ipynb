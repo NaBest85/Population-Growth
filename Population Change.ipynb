{
 "cells": [
  {
   "cell_type": "code",
   "execution_count": 1,
   "id": "fe37b754",
   "metadata": {},
   "outputs": [],
   "source": [
    "import pandas as pd\n",
    "from sklearn.compose import ColumnTransformer\n",
    "from sklearn.preprocessing import StandardScaler\n",
    "from sklearn.linear_model import LinearRegression\n",
    "from sklearn.metrics import mean_squared_error, mean_absolute_error\n",
    "from sklearn.model_selection import train_test_split\n",
    "import matplotlib.pyplot as plt\n"
   ]
  },
  {
   "cell_type": "code",
   "execution_count": 2,
   "id": "36b27ac4",
   "metadata": {},
   "outputs": [
    {
     "data": {
      "text/html": [
       "<div>\n",
       "<style scoped>\n",
       "    .dataframe tbody tr th:only-of-type {\n",
       "        vertical-align: middle;\n",
       "    }\n",
       "\n",
       "    .dataframe tbody tr th {\n",
       "        vertical-align: top;\n",
       "    }\n",
       "\n",
       "    .dataframe thead th {\n",
       "        text-align: right;\n",
       "    }\n",
       "</style>\n",
       "<table border=\"1\" class=\"dataframe\">\n",
       "  <thead>\n",
       "    <tr style=\"text-align: right;\">\n",
       "      <th></th>\n",
       "      <th>NAME</th>\n",
       "      <th>Households Total Income</th>\n",
       "      <th>Households with Income under $10,000</th>\n",
       "      <th>Households with Income of $200,000 or more</th>\n",
       "      <th>Year</th>\n",
       "    </tr>\n",
       "  </thead>\n",
       "  <tbody>\n",
       "    <tr>\n",
       "      <th>0</th>\n",
       "      <td>Alabama</td>\n",
       "      <td>2016448</td>\n",
       "      <td>7.6</td>\n",
       "      <td>6.7</td>\n",
       "      <td>2022</td>\n",
       "    </tr>\n",
       "    <tr>\n",
       "      <th>1</th>\n",
       "      <td>Alaska</td>\n",
       "      <td>274574</td>\n",
       "      <td>4.4</td>\n",
       "      <td>11.4</td>\n",
       "      <td>2022</td>\n",
       "    </tr>\n",
       "    <tr>\n",
       "      <th>2</th>\n",
       "      <td>Arizona</td>\n",
       "      <td>2850377</td>\n",
       "      <td>5.4</td>\n",
       "      <td>9.6</td>\n",
       "      <td>2022</td>\n",
       "    </tr>\n",
       "    <tr>\n",
       "      <th>3</th>\n",
       "      <td>Arkansas</td>\n",
       "      <td>1216207</td>\n",
       "      <td>7.3</td>\n",
       "      <td>5.5</td>\n",
       "      <td>2022</td>\n",
       "    </tr>\n",
       "    <tr>\n",
       "      <th>4</th>\n",
       "      <td>California</td>\n",
       "      <td>13550586</td>\n",
       "      <td>4.8</td>\n",
       "      <td>18.0</td>\n",
       "      <td>2022</td>\n",
       "    </tr>\n",
       "  </tbody>\n",
       "</table>\n",
       "</div>"
      ],
      "text/plain": [
       "         NAME  Households Total Income  Households with Income under $10,000  \\\n",
       "0     Alabama                  2016448                                   7.6   \n",
       "1      Alaska                   274574                                   4.4   \n",
       "2     Arizona                  2850377                                   5.4   \n",
       "3    Arkansas                  1216207                                   7.3   \n",
       "4  California                 13550586                                   4.8   \n",
       "\n",
       "   Households with Income of $200,000 or more  Year  \n",
       "0                                         6.7  2022  \n",
       "1                                        11.4  2022  \n",
       "2                                         9.6  2022  \n",
       "3                                         5.5  2022  \n",
       "4                                        18.0  2022  "
      ]
     },
     "execution_count": 2,
     "metadata": {},
     "output_type": "execute_result"
    }
   ],
   "source": [
    "# Read in the CSV file as a Pandas DataFrame\n",
    "\n",
    "Income_df = pd.read_csv(\"Combined_Household_Income.csv\")\n",
    "Income_df.head()"
   ]
  },
  {
   "cell_type": "code",
   "execution_count": 3,
   "id": "6ddd9e44",
   "metadata": {},
   "outputs": [
    {
     "data": {
      "text/html": [
       "<div>\n",
       "<style scoped>\n",
       "    .dataframe tbody tr th:only-of-type {\n",
       "        vertical-align: middle;\n",
       "    }\n",
       "\n",
       "    .dataframe tbody tr th {\n",
       "        vertical-align: top;\n",
       "    }\n",
       "\n",
       "    .dataframe thead th {\n",
       "        text-align: right;\n",
       "    }\n",
       "</style>\n",
       "<table border=\"1\" class=\"dataframe\">\n",
       "  <thead>\n",
       "    <tr style=\"text-align: right;\">\n",
       "      <th></th>\n",
       "      <th>NAME</th>\n",
       "      <th>HH_Total_Income_2020</th>\n",
       "      <th>HH_Total_Income_2021</th>\n",
       "      <th>HH_Total_Income_2022</th>\n",
       "    </tr>\n",
       "  </thead>\n",
       "  <tbody>\n",
       "    <tr>\n",
       "      <th>0</th>\n",
       "      <td>Alabama</td>\n",
       "      <td>1888504</td>\n",
       "      <td>1967559</td>\n",
       "      <td>2016448</td>\n",
       "    </tr>\n",
       "    <tr>\n",
       "      <th>1</th>\n",
       "      <td>Alaska</td>\n",
       "      <td>255173</td>\n",
       "      <td>271311</td>\n",
       "      <td>274574</td>\n",
       "    </tr>\n",
       "    <tr>\n",
       "      <th>2</th>\n",
       "      <td>Arizona</td>\n",
       "      <td>2643430</td>\n",
       "      <td>2817723</td>\n",
       "      <td>2850377</td>\n",
       "    </tr>\n",
       "    <tr>\n",
       "      <th>3</th>\n",
       "      <td>Arkansas</td>\n",
       "      <td>1170544</td>\n",
       "      <td>1183675</td>\n",
       "      <td>1216207</td>\n",
       "    </tr>\n",
       "    <tr>\n",
       "      <th>4</th>\n",
       "      <td>California</td>\n",
       "      <td>13103114</td>\n",
       "      <td>13429063</td>\n",
       "      <td>13550586</td>\n",
       "    </tr>\n",
       "  </tbody>\n",
       "</table>\n",
       "</div>"
      ],
      "text/plain": [
       "         NAME  HH_Total_Income_2020  HH_Total_Income_2021  \\\n",
       "0     Alabama               1888504               1967559   \n",
       "1      Alaska                255173                271311   \n",
       "2     Arizona               2643430               2817723   \n",
       "3    Arkansas               1170544               1183675   \n",
       "4  California              13103114              13429063   \n",
       "\n",
       "   HH_Total_Income_2022  \n",
       "0               2016448  \n",
       "1                274574  \n",
       "2               2850377  \n",
       "3               1216207  \n",
       "4              13550586  "
      ]
     },
     "execution_count": 3,
     "metadata": {},
     "output_type": "execute_result"
    }
   ],
   "source": [
    "# Pivot table to organize data using year\n",
    "\n",
    "Total_Income_df =  Income_df.pivot_table(index='NAME',\n",
    "                     columns='Year', \n",
    "                     values='Households Total Income').reset_index()\n",
    "Total_Income_df.columns = ['NAME', 'HH_Total_Income_2020', 'HH_Total_Income_2021', 'HH_Total_Income_2022']\n",
    "Total_Income_df.head()"
   ]
  },
  {
   "cell_type": "code",
   "execution_count": 4,
   "id": "a38c274e",
   "metadata": {},
   "outputs": [
    {
     "data": {
      "text/html": [
       "<div>\n",
       "<style scoped>\n",
       "    .dataframe tbody tr th:only-of-type {\n",
       "        vertical-align: middle;\n",
       "    }\n",
       "\n",
       "    .dataframe tbody tr th {\n",
       "        vertical-align: top;\n",
       "    }\n",
       "\n",
       "    .dataframe thead th {\n",
       "        text-align: right;\n",
       "    }\n",
       "</style>\n",
       "<table border=\"1\" class=\"dataframe\">\n",
       "  <thead>\n",
       "    <tr style=\"text-align: right;\">\n",
       "      <th></th>\n",
       "      <th>NAME</th>\n",
       "      <th>Under10K_2020</th>\n",
       "      <th>Under10K_2021</th>\n",
       "      <th>Under10K_2022</th>\n",
       "    </tr>\n",
       "  </thead>\n",
       "  <tbody>\n",
       "    <tr>\n",
       "      <th>0</th>\n",
       "      <td>Alabama</td>\n",
       "      <td>8.1</td>\n",
       "      <td>7.7</td>\n",
       "      <td>7.6</td>\n",
       "    </tr>\n",
       "    <tr>\n",
       "      <th>1</th>\n",
       "      <td>Alaska</td>\n",
       "      <td>3.8</td>\n",
       "      <td>5.4</td>\n",
       "      <td>4.4</td>\n",
       "    </tr>\n",
       "    <tr>\n",
       "      <th>2</th>\n",
       "      <td>Arizona</td>\n",
       "      <td>5.9</td>\n",
       "      <td>5.6</td>\n",
       "      <td>5.4</td>\n",
       "    </tr>\n",
       "    <tr>\n",
       "      <th>3</th>\n",
       "      <td>Arkansas</td>\n",
       "      <td>7.4</td>\n",
       "      <td>7.6</td>\n",
       "      <td>7.3</td>\n",
       "    </tr>\n",
       "    <tr>\n",
       "      <th>4</th>\n",
       "      <td>California</td>\n",
       "      <td>4.7</td>\n",
       "      <td>5.3</td>\n",
       "      <td>4.8</td>\n",
       "    </tr>\n",
       "  </tbody>\n",
       "</table>\n",
       "</div>"
      ],
      "text/plain": [
       "         NAME  Under10K_2020  Under10K_2021  Under10K_2022\n",
       "0     Alabama            8.1            7.7            7.6\n",
       "1      Alaska            3.8            5.4            4.4\n",
       "2     Arizona            5.9            5.6            5.4\n",
       "3    Arkansas            7.4            7.6            7.3\n",
       "4  California            4.7            5.3            4.8"
      ]
     },
     "execution_count": 4,
     "metadata": {},
     "output_type": "execute_result"
    }
   ],
   "source": [
    "Under_10K_df = Income_df.pivot_table(index='NAME',\n",
    "                     columns='Year', \n",
    "                     values='Households with Income under $10,000').reset_index()\n",
    "\n",
    "Under_10K_df.columns = ['NAME', 'Under10K_2020', 'Under10K_2021', 'Under10K_2022']\n",
    "Under_10K_df.head()"
   ]
  },
  {
   "cell_type": "code",
   "execution_count": 5,
   "id": "4b57e841",
   "metadata": {},
   "outputs": [
    {
     "data": {
      "text/html": [
       "<div>\n",
       "<style scoped>\n",
       "    .dataframe tbody tr th:only-of-type {\n",
       "        vertical-align: middle;\n",
       "    }\n",
       "\n",
       "    .dataframe tbody tr th {\n",
       "        vertical-align: top;\n",
       "    }\n",
       "\n",
       "    .dataframe thead th {\n",
       "        text-align: right;\n",
       "    }\n",
       "</style>\n",
       "<table border=\"1\" class=\"dataframe\">\n",
       "  <thead>\n",
       "    <tr style=\"text-align: right;\">\n",
       "      <th></th>\n",
       "      <th>NAME</th>\n",
       "      <th>Over200K_2020</th>\n",
       "      <th>Over200K_2021</th>\n",
       "      <th>Over200K_2022</th>\n",
       "    </tr>\n",
       "  </thead>\n",
       "  <tbody>\n",
       "    <tr>\n",
       "      <th>0</th>\n",
       "      <td>Alabama</td>\n",
       "      <td>4.4</td>\n",
       "      <td>5.2</td>\n",
       "      <td>6.7</td>\n",
       "    </tr>\n",
       "    <tr>\n",
       "      <th>1</th>\n",
       "      <td>Alaska</td>\n",
       "      <td>8.8</td>\n",
       "      <td>10.2</td>\n",
       "      <td>11.4</td>\n",
       "    </tr>\n",
       "    <tr>\n",
       "      <th>2</th>\n",
       "      <td>Arizona</td>\n",
       "      <td>6.4</td>\n",
       "      <td>8.1</td>\n",
       "      <td>9.6</td>\n",
       "    </tr>\n",
       "    <tr>\n",
       "      <th>3</th>\n",
       "      <td>Arkansas</td>\n",
       "      <td>4.0</td>\n",
       "      <td>4.7</td>\n",
       "      <td>5.5</td>\n",
       "    </tr>\n",
       "    <tr>\n",
       "      <th>4</th>\n",
       "      <td>California</td>\n",
       "      <td>13.3</td>\n",
       "      <td>15.5</td>\n",
       "      <td>18.0</td>\n",
       "    </tr>\n",
       "  </tbody>\n",
       "</table>\n",
       "</div>"
      ],
      "text/plain": [
       "         NAME  Over200K_2020  Over200K_2021  Over200K_2022\n",
       "0     Alabama            4.4            5.2            6.7\n",
       "1      Alaska            8.8           10.2           11.4\n",
       "2     Arizona            6.4            8.1            9.6\n",
       "3    Arkansas            4.0            4.7            5.5\n",
       "4  California           13.3           15.5           18.0"
      ]
     },
     "execution_count": 5,
     "metadata": {},
     "output_type": "execute_result"
    }
   ],
   "source": [
    "Over_200K_df = Income_df.pivot_table(index='NAME',\n",
    "                     columns='Year', \n",
    "                     values='Households with Income of $200,000 or more').reset_index()\n",
    "Over_200K_df.columns = ['NAME', 'Over200K_2020', 'Over200K_2021', 'Over200K_2022']\n",
    "Over_200K_df.head()"
   ]
  },
  {
   "cell_type": "code",
   "execution_count": 6,
   "id": "b1e4f3cf",
   "metadata": {},
   "outputs": [],
   "source": [
    "# Merge dataframes\n",
    "\n",
    "Temp_df = pd.merge(Total_Income_df,Under_10K_df,how=\"inner\",on='NAME')"
   ]
  },
  {
   "cell_type": "code",
   "execution_count": 7,
   "id": "115b9592",
   "metadata": {},
   "outputs": [
    {
     "data": {
      "text/html": [
       "<div>\n",
       "<style scoped>\n",
       "    .dataframe tbody tr th:only-of-type {\n",
       "        vertical-align: middle;\n",
       "    }\n",
       "\n",
       "    .dataframe tbody tr th {\n",
       "        vertical-align: top;\n",
       "    }\n",
       "\n",
       "    .dataframe thead th {\n",
       "        text-align: right;\n",
       "    }\n",
       "</style>\n",
       "<table border=\"1\" class=\"dataframe\">\n",
       "  <thead>\n",
       "    <tr style=\"text-align: right;\">\n",
       "      <th></th>\n",
       "      <th>NAME</th>\n",
       "      <th>HH_Total_Income_2020</th>\n",
       "      <th>HH_Total_Income_2021</th>\n",
       "      <th>HH_Total_Income_2022</th>\n",
       "      <th>Under10K_2020</th>\n",
       "      <th>Under10K_2021</th>\n",
       "      <th>Under10K_2022</th>\n",
       "      <th>Over200K_2020</th>\n",
       "      <th>Over200K_2021</th>\n",
       "      <th>Over200K_2022</th>\n",
       "    </tr>\n",
       "  </thead>\n",
       "  <tbody>\n",
       "    <tr>\n",
       "      <th>0</th>\n",
       "      <td>Alabama</td>\n",
       "      <td>1888504</td>\n",
       "      <td>1967559</td>\n",
       "      <td>2016448</td>\n",
       "      <td>8.1</td>\n",
       "      <td>7.7</td>\n",
       "      <td>7.6</td>\n",
       "      <td>4.4</td>\n",
       "      <td>5.2</td>\n",
       "      <td>6.7</td>\n",
       "    </tr>\n",
       "    <tr>\n",
       "      <th>1</th>\n",
       "      <td>Alaska</td>\n",
       "      <td>255173</td>\n",
       "      <td>271311</td>\n",
       "      <td>274574</td>\n",
       "      <td>3.8</td>\n",
       "      <td>5.4</td>\n",
       "      <td>4.4</td>\n",
       "      <td>8.8</td>\n",
       "      <td>10.2</td>\n",
       "      <td>11.4</td>\n",
       "    </tr>\n",
       "    <tr>\n",
       "      <th>2</th>\n",
       "      <td>Arizona</td>\n",
       "      <td>2643430</td>\n",
       "      <td>2817723</td>\n",
       "      <td>2850377</td>\n",
       "      <td>5.9</td>\n",
       "      <td>5.6</td>\n",
       "      <td>5.4</td>\n",
       "      <td>6.4</td>\n",
       "      <td>8.1</td>\n",
       "      <td>9.6</td>\n",
       "    </tr>\n",
       "    <tr>\n",
       "      <th>3</th>\n",
       "      <td>Arkansas</td>\n",
       "      <td>1170544</td>\n",
       "      <td>1183675</td>\n",
       "      <td>1216207</td>\n",
       "      <td>7.4</td>\n",
       "      <td>7.6</td>\n",
       "      <td>7.3</td>\n",
       "      <td>4.0</td>\n",
       "      <td>4.7</td>\n",
       "      <td>5.5</td>\n",
       "    </tr>\n",
       "    <tr>\n",
       "      <th>4</th>\n",
       "      <td>California</td>\n",
       "      <td>13103114</td>\n",
       "      <td>13429063</td>\n",
       "      <td>13550586</td>\n",
       "      <td>4.7</td>\n",
       "      <td>5.3</td>\n",
       "      <td>4.8</td>\n",
       "      <td>13.3</td>\n",
       "      <td>15.5</td>\n",
       "      <td>18.0</td>\n",
       "    </tr>\n",
       "  </tbody>\n",
       "</table>\n",
       "</div>"
      ],
      "text/plain": [
       "         NAME  HH_Total_Income_2020  HH_Total_Income_2021  \\\n",
       "0     Alabama               1888504               1967559   \n",
       "1      Alaska                255173                271311   \n",
       "2     Arizona               2643430               2817723   \n",
       "3    Arkansas               1170544               1183675   \n",
       "4  California              13103114              13429063   \n",
       "\n",
       "   HH_Total_Income_2022  Under10K_2020  Under10K_2021  Under10K_2022  \\\n",
       "0               2016448            8.1            7.7            7.6   \n",
       "1                274574            3.8            5.4            4.4   \n",
       "2               2850377            5.9            5.6            5.4   \n",
       "3               1216207            7.4            7.6            7.3   \n",
       "4              13550586            4.7            5.3            4.8   \n",
       "\n",
       "   Over200K_2020  Over200K_2021  Over200K_2022  \n",
       "0            4.4            5.2            6.7  \n",
       "1            8.8           10.2           11.4  \n",
       "2            6.4            8.1            9.6  \n",
       "3            4.0            4.7            5.5  \n",
       "4           13.3           15.5           18.0  "
      ]
     },
     "execution_count": 7,
     "metadata": {},
     "output_type": "execute_result"
    }
   ],
   "source": [
    "Final_Income_df = pd.merge(Temp_df,Over_200K_df,how=\"inner\",on='NAME')\n",
    "Final_Income_df.head()"
   ]
  },
  {
   "cell_type": "code",
   "execution_count": 8,
   "id": "0138f8af",
   "metadata": {},
   "outputs": [],
   "source": [
    "# Read in the CSV file as a Pandas DataFrame\n",
    "Pop_df = pd.read_csv('Estimated Population 2020-2022.csv')"
   ]
  },
  {
   "cell_type": "code",
   "execution_count": 9,
   "id": "b88cbb99",
   "metadata": {},
   "outputs": [
    {
     "data": {
      "text/html": [
       "<div>\n",
       "<style scoped>\n",
       "    .dataframe tbody tr th:only-of-type {\n",
       "        vertical-align: middle;\n",
       "    }\n",
       "\n",
       "    .dataframe tbody tr th {\n",
       "        vertical-align: top;\n",
       "    }\n",
       "\n",
       "    .dataframe thead th {\n",
       "        text-align: right;\n",
       "    }\n",
       "</style>\n",
       "<table border=\"1\" class=\"dataframe\">\n",
       "  <thead>\n",
       "    <tr style=\"text-align: right;\">\n",
       "      <th></th>\n",
       "      <th>SUMLEV</th>\n",
       "      <th>NAME</th>\n",
       "      <th>POPESTIMATE2020</th>\n",
       "      <th>POPESTIMATE2021</th>\n",
       "      <th>POPESTIMATE2022</th>\n",
       "      <th>NPOPCHG_2020</th>\n",
       "      <th>NPOPCHG_2021</th>\n",
       "      <th>NPOPCHG_2022</th>\n",
       "      <th>PPOPCHG_2020</th>\n",
       "      <th>PPOPCHG_2021</th>\n",
       "      <th>PPOPCHG_2022</th>\n",
       "    </tr>\n",
       "  </thead>\n",
       "  <tbody>\n",
       "    <tr>\n",
       "      <th>0</th>\n",
       "      <td>10</td>\n",
       "      <td>United States</td>\n",
       "      <td>331511512</td>\n",
       "      <td>332031554</td>\n",
       "      <td>333287557</td>\n",
       "      <td>61992</td>\n",
       "      <td>520042</td>\n",
       "      <td>1256003</td>\n",
       "      <td>0.018703</td>\n",
       "      <td>0.156870</td>\n",
       "      <td>0.378278</td>\n",
       "    </tr>\n",
       "    <tr>\n",
       "      <th>1</th>\n",
       "      <td>20</td>\n",
       "      <td>Northeast Region</td>\n",
       "      <td>57448898</td>\n",
       "      <td>57259257</td>\n",
       "      <td>57040406</td>\n",
       "      <td>-160258</td>\n",
       "      <td>-189641</td>\n",
       "      <td>-218851</td>\n",
       "      <td>-0.278181</td>\n",
       "      <td>-0.330104</td>\n",
       "      <td>-0.382211</td>\n",
       "    </tr>\n",
       "    <tr>\n",
       "      <th>2</th>\n",
       "      <td>30</td>\n",
       "      <td>New England</td>\n",
       "      <td>15074473</td>\n",
       "      <td>15121745</td>\n",
       "      <td>15129548</td>\n",
       "      <td>-41733</td>\n",
       "      <td>47272</td>\n",
       "      <td>7803</td>\n",
       "      <td>-0.276081</td>\n",
       "      <td>0.313590</td>\n",
       "      <td>0.051601</td>\n",
       "    </tr>\n",
       "    <tr>\n",
       "      <th>3</th>\n",
       "      <td>30</td>\n",
       "      <td>Middle Atlantic</td>\n",
       "      <td>42374425</td>\n",
       "      <td>42137512</td>\n",
       "      <td>41910858</td>\n",
       "      <td>-118525</td>\n",
       "      <td>-236913</td>\n",
       "      <td>-226654</td>\n",
       "      <td>-0.278929</td>\n",
       "      <td>-0.559094</td>\n",
       "      <td>-0.537891</td>\n",
       "    </tr>\n",
       "    <tr>\n",
       "      <th>4</th>\n",
       "      <td>20</td>\n",
       "      <td>Midwest Region</td>\n",
       "      <td>68961043</td>\n",
       "      <td>68836505</td>\n",
       "      <td>68787595</td>\n",
       "      <td>-24494</td>\n",
       "      <td>-124538</td>\n",
       "      <td>-48910</td>\n",
       "      <td>-0.035506</td>\n",
       "      <td>-0.180592</td>\n",
       "      <td>-0.071052</td>\n",
       "    </tr>\n",
       "  </tbody>\n",
       "</table>\n",
       "</div>"
      ],
      "text/plain": [
       "   SUMLEV              NAME  POPESTIMATE2020  POPESTIMATE2021  \\\n",
       "0      10     United States        331511512        332031554   \n",
       "1      20  Northeast Region         57448898         57259257   \n",
       "2      30       New England         15074473         15121745   \n",
       "3      30   Middle Atlantic         42374425         42137512   \n",
       "4      20    Midwest Region         68961043         68836505   \n",
       "\n",
       "   POPESTIMATE2022  NPOPCHG_2020  NPOPCHG_2021  NPOPCHG_2022  PPOPCHG_2020  \\\n",
       "0        333287557         61992        520042       1256003      0.018703   \n",
       "1         57040406       -160258       -189641       -218851     -0.278181   \n",
       "2         15129548        -41733         47272          7803     -0.276081   \n",
       "3         41910858       -118525       -236913       -226654     -0.278929   \n",
       "4         68787595        -24494       -124538        -48910     -0.035506   \n",
       "\n",
       "   PPOPCHG_2021  PPOPCHG_2022  \n",
       "0      0.156870      0.378278  \n",
       "1     -0.330104     -0.382211  \n",
       "2      0.313590      0.051601  \n",
       "3     -0.559094     -0.537891  \n",
       "4     -0.180592     -0.071052  "
      ]
     },
     "execution_count": 9,
     "metadata": {},
     "output_type": "execute_result"
    }
   ],
   "source": [
    "Pop_df.head()"
   ]
  },
  {
   "cell_type": "code",
   "execution_count": 10,
   "id": "8a5f6286",
   "metadata": {},
   "outputs": [
    {
     "data": {
      "text/plain": [
       "['Alabama',\n",
       " 'Alaska',\n",
       " 'Arizona',\n",
       " 'Arkansas',\n",
       " 'California',\n",
       " 'Colorado',\n",
       " 'Connecticut',\n",
       " 'Delaware',\n",
       " 'District of Columbia',\n",
       " 'East North Central',\n",
       " 'East South Central',\n",
       " 'Florida',\n",
       " 'Georgia',\n",
       " 'Hawaii',\n",
       " 'Idaho',\n",
       " 'Illinois',\n",
       " 'Indiana',\n",
       " 'Iowa',\n",
       " 'Kansas',\n",
       " 'Kentucky',\n",
       " 'Louisiana',\n",
       " 'Maine',\n",
       " 'Maryland',\n",
       " 'Massachusetts',\n",
       " 'Michigan',\n",
       " 'Middle Atlantic',\n",
       " 'Midwest Region',\n",
       " 'Minnesota',\n",
       " 'Mississippi',\n",
       " 'Missouri',\n",
       " 'Montana',\n",
       " 'Mountain',\n",
       " 'Nebraska',\n",
       " 'Nevada',\n",
       " 'New England',\n",
       " 'New Hampshire',\n",
       " 'New Jersey',\n",
       " 'New Mexico',\n",
       " 'New York',\n",
       " 'North Carolina',\n",
       " 'North Dakota',\n",
       " 'Northeast Region',\n",
       " 'Ohio',\n",
       " 'Oklahoma',\n",
       " 'Oregon',\n",
       " 'Pacific',\n",
       " 'Pennsylvania',\n",
       " 'Puerto Rico',\n",
       " 'Rhode Island',\n",
       " 'South Atlantic',\n",
       " 'South Carolina',\n",
       " 'South Dakota',\n",
       " 'South Region',\n",
       " 'Tennessee',\n",
       " 'Texas',\n",
       " 'United States',\n",
       " 'Utah',\n",
       " 'Vermont',\n",
       " 'Virginia',\n",
       " 'Washington',\n",
       " 'West North Central',\n",
       " 'West Region',\n",
       " 'West South Central',\n",
       " 'West Virginia',\n",
       " 'Wisconsin',\n",
       " 'Wyoming']"
      ]
     },
     "execution_count": 10,
     "metadata": {},
     "output_type": "execute_result"
    }
   ],
   "source": [
    "# Rename the 'Name' column, sort\n",
    "\n",
    "states = list(Pop_df[\"NAME\"].unique())\n",
    "sorted(states)"
   ]
  },
  {
   "cell_type": "code",
   "execution_count": 13,
   "id": "b3be88e9",
   "metadata": {},
   "outputs": [
    {
     "data": {
      "text/plain": [
       "Index(['SUMLEV', 'NAME', 'POPESTIMATE2020', 'POPESTIMATE2021',\n",
       "       'POPESTIMATE2022', 'NPOPCHG_2020', 'NPOPCHG_2021', 'NPOPCHG_2022',\n",
       "       'PPOPCHG_2020', 'PPOPCHG_2021', 'PPOPCHG_2022', 'HH_Total_Income_2020',\n",
       "       'HH_Total_Income_2021', 'HH_Total_Income_2022', 'Under10K_2020',\n",
       "       'Under10K_2021', 'Under10K_2022', 'Over200K_2020', 'Over200K_2021',\n",
       "       'Over200K_2022'],\n",
       "      dtype='object')"
      ]
     },
     "execution_count": 13,
     "metadata": {},
     "output_type": "execute_result"
    }
   ],
   "source": [
    "# Merge dataFrames\n",
    "Pop_Income_df = pd.merge(Pop_df,Final_Income_df,how=\"inner\",on='NAME')\n",
    "Pop_Income_df.columns"
   ]
  },
  {
   "cell_type": "code",
   "execution_count": 14,
   "id": "7376f45d",
   "metadata": {},
   "outputs": [
    {
     "data": {
      "text/plain": [
       "Index(['NAME', 'PPOPCHG_2020', 'PPOPCHG_2021', 'PPOPCHG_2022',\n",
       "       'HH_Total_Income_2020', 'HH_Total_Income_2021', 'HH_Total_Income_2022',\n",
       "       'Under10K_2020', 'Under10K_2021', 'Under10K_2022', 'Over200K_2020',\n",
       "       'Over200K_2021', 'Over200K_2022'],\n",
       "      dtype='object')"
      ]
     },
     "execution_count": 14,
     "metadata": {},
     "output_type": "execute_result"
    }
   ],
   "source": [
    "# Drop columns that will not be needed\n",
    "Pop_Income_df.drop(columns=['SUMLEV','POPESTIMATE2020', 'POPESTIMATE2021', 'POPESTIMATE2022',\n",
    "       'NPOPCHG_2020', 'NPOPCHG_2021', 'NPOPCHG_2022'], inplace=True)\n",
    "Pop_Income_df.columns"
   ]
  },
  {
   "cell_type": "code",
   "execution_count": 15,
   "id": "7186a566",
   "metadata": {},
   "outputs": [
    {
     "data": {
      "text/html": [
       "<div>\n",
       "<style scoped>\n",
       "    .dataframe tbody tr th:only-of-type {\n",
       "        vertical-align: middle;\n",
       "    }\n",
       "\n",
       "    .dataframe tbody tr th {\n",
       "        vertical-align: top;\n",
       "    }\n",
       "\n",
       "    .dataframe thead th {\n",
       "        text-align: right;\n",
       "    }\n",
       "</style>\n",
       "<table border=\"1\" class=\"dataframe\">\n",
       "  <thead>\n",
       "    <tr style=\"text-align: right;\">\n",
       "      <th></th>\n",
       "      <th>NAME</th>\n",
       "      <th>PPOPCHG_2020</th>\n",
       "      <th>PPOPCHG_2021</th>\n",
       "      <th>PPOPCHG_2022</th>\n",
       "      <th>HH_Total_Income_2020</th>\n",
       "      <th>HH_Total_Income_2021</th>\n",
       "      <th>HH_Total_Income_2022</th>\n",
       "      <th>Under10K_2020</th>\n",
       "      <th>Under10K_2021</th>\n",
       "      <th>Under10K_2022</th>\n",
       "      <th>Over200K_2020</th>\n",
       "      <th>Over200K_2021</th>\n",
       "      <th>Over200K_2022</th>\n",
       "    </tr>\n",
       "  </thead>\n",
       "  <tbody>\n",
       "    <tr>\n",
       "      <th>0</th>\n",
       "      <td>Alabama</td>\n",
       "      <td>0.139441</td>\n",
       "      <td>0.367376</td>\n",
       "      <td>0.484173</td>\n",
       "      <td>1888504</td>\n",
       "      <td>1967559</td>\n",
       "      <td>2016448</td>\n",
       "      <td>8.1</td>\n",
       "      <td>7.7</td>\n",
       "      <td>7.6</td>\n",
       "      <td>4.4</td>\n",
       "      <td>5.2</td>\n",
       "      <td>6.7</td>\n",
       "    </tr>\n",
       "    <tr>\n",
       "      <th>1</th>\n",
       "      <td>Alaska</td>\n",
       "      <td>-0.062042</td>\n",
       "      <td>0.171778</td>\n",
       "      <td>-0.081587</td>\n",
       "      <td>255173</td>\n",
       "      <td>271311</td>\n",
       "      <td>274574</td>\n",
       "      <td>3.8</td>\n",
       "      <td>5.4</td>\n",
       "      <td>4.4</td>\n",
       "      <td>8.8</td>\n",
       "      <td>10.2</td>\n",
       "      <td>11.4</td>\n",
       "    </tr>\n",
       "    <tr>\n",
       "      <th>2</th>\n",
       "      <td>Arizona</td>\n",
       "      <td>0.397622</td>\n",
       "      <td>1.182934</td>\n",
       "      <td>1.298301</td>\n",
       "      <td>2643430</td>\n",
       "      <td>2817723</td>\n",
       "      <td>2850377</td>\n",
       "      <td>5.9</td>\n",
       "      <td>5.6</td>\n",
       "      <td>5.4</td>\n",
       "      <td>6.4</td>\n",
       "      <td>8.1</td>\n",
       "      <td>9.6</td>\n",
       "    </tr>\n",
       "    <tr>\n",
       "      <th>3</th>\n",
       "      <td>Arkansas</td>\n",
       "      <td>0.087662</td>\n",
       "      <td>0.462047</td>\n",
       "      <td>0.578411</td>\n",
       "      <td>1170544</td>\n",
       "      <td>1183675</td>\n",
       "      <td>1216207</td>\n",
       "      <td>7.4</td>\n",
       "      <td>7.6</td>\n",
       "      <td>7.3</td>\n",
       "      <td>4.0</td>\n",
       "      <td>4.7</td>\n",
       "      <td>5.5</td>\n",
       "    </tr>\n",
       "    <tr>\n",
       "      <th>4</th>\n",
       "      <td>California</td>\n",
       "      <td>-0.092548</td>\n",
       "      <td>-0.907967</td>\n",
       "      <td>-0.290343</td>\n",
       "      <td>13103114</td>\n",
       "      <td>13429063</td>\n",
       "      <td>13550586</td>\n",
       "      <td>4.7</td>\n",
       "      <td>5.3</td>\n",
       "      <td>4.8</td>\n",
       "      <td>13.3</td>\n",
       "      <td>15.5</td>\n",
       "      <td>18.0</td>\n",
       "    </tr>\n",
       "  </tbody>\n",
       "</table>\n",
       "</div>"
      ],
      "text/plain": [
       "         NAME  PPOPCHG_2020  PPOPCHG_2021  PPOPCHG_2022  HH_Total_Income_2020  \\\n",
       "0     Alabama      0.139441      0.367376      0.484173               1888504   \n",
       "1      Alaska     -0.062042      0.171778     -0.081587                255173   \n",
       "2     Arizona      0.397622      1.182934      1.298301               2643430   \n",
       "3    Arkansas      0.087662      0.462047      0.578411               1170544   \n",
       "4  California     -0.092548     -0.907967     -0.290343              13103114   \n",
       "\n",
       "   HH_Total_Income_2021  HH_Total_Income_2022  Under10K_2020  Under10K_2021  \\\n",
       "0               1967559               2016448            8.1            7.7   \n",
       "1                271311                274574            3.8            5.4   \n",
       "2               2817723               2850377            5.9            5.6   \n",
       "3               1183675               1216207            7.4            7.6   \n",
       "4              13429063              13550586            4.7            5.3   \n",
       "\n",
       "   Under10K_2022  Over200K_2020  Over200K_2021  Over200K_2022  \n",
       "0            7.6            4.4            5.2            6.7  \n",
       "1            4.4            8.8           10.2           11.4  \n",
       "2            5.4            6.4            8.1            9.6  \n",
       "3            7.3            4.0            4.7            5.5  \n",
       "4            4.8           13.3           15.5           18.0  "
      ]
     },
     "execution_count": 15,
     "metadata": {},
     "output_type": "execute_result"
    }
   ],
   "source": [
    "Pop_Income_df.head()"
   ]
  },
  {
   "cell_type": "code",
   "execution_count": 16,
   "id": "1b38200b",
   "metadata": {},
   "outputs": [
    {
     "data": {
      "text/html": [
       "<div>\n",
       "<style scoped>\n",
       "    .dataframe tbody tr th:only-of-type {\n",
       "        vertical-align: middle;\n",
       "    }\n",
       "\n",
       "    .dataframe tbody tr th {\n",
       "        vertical-align: top;\n",
       "    }\n",
       "\n",
       "    .dataframe thead th {\n",
       "        text-align: right;\n",
       "    }\n",
       "</style>\n",
       "<table border=\"1\" class=\"dataframe\">\n",
       "  <thead>\n",
       "    <tr style=\"text-align: right;\">\n",
       "      <th></th>\n",
       "      <th>PPOPCHG_2020</th>\n",
       "      <th>PPOPCHG_2021</th>\n",
       "      <th>PPOPCHG_2022</th>\n",
       "    </tr>\n",
       "  </thead>\n",
       "  <tbody>\n",
       "    <tr>\n",
       "      <th>0</th>\n",
       "      <td>0.139441</td>\n",
       "      <td>0.367376</td>\n",
       "      <td>0.484173</td>\n",
       "    </tr>\n",
       "    <tr>\n",
       "      <th>1</th>\n",
       "      <td>-0.062042</td>\n",
       "      <td>0.171778</td>\n",
       "      <td>-0.081587</td>\n",
       "    </tr>\n",
       "    <tr>\n",
       "      <th>2</th>\n",
       "      <td>0.397622</td>\n",
       "      <td>1.182934</td>\n",
       "      <td>1.298301</td>\n",
       "    </tr>\n",
       "    <tr>\n",
       "      <th>3</th>\n",
       "      <td>0.087662</td>\n",
       "      <td>0.462047</td>\n",
       "      <td>0.578411</td>\n",
       "    </tr>\n",
       "    <tr>\n",
       "      <th>4</th>\n",
       "      <td>-0.092548</td>\n",
       "      <td>-0.907967</td>\n",
       "      <td>-0.290343</td>\n",
       "    </tr>\n",
       "  </tbody>\n",
       "</table>\n",
       "</div>"
      ],
      "text/plain": [
       "   PPOPCHG_2020  PPOPCHG_2021  PPOPCHG_2022\n",
       "0      0.139441      0.367376      0.484173\n",
       "1     -0.062042      0.171778     -0.081587\n",
       "2      0.397622      1.182934      1.298301\n",
       "3      0.087662      0.462047      0.578411\n",
       "4     -0.092548     -0.907967     -0.290343"
      ]
     },
     "execution_count": 16,
     "metadata": {},
     "output_type": "execute_result"
    }
   ],
   "source": [
    "Pop_Income_df.loc[:,['PPOPCHG_2020', 'PPOPCHG_2021', 'PPOPCHG_2022']].head()"
   ]
  },
  {
   "cell_type": "code",
   "execution_count": 17,
   "id": "641f9c3b",
   "metadata": {},
   "outputs": [],
   "source": [
    "# Combine and find the average for columns with 3 years data\n",
    "Pop_Income_df['AVG_PPOP_CHG'] = Pop_Income_df.loc[:,['PPOPCHG_2020', 'PPOPCHG_2021', 'PPOPCHG_2022']].mean(axis=1)"
   ]
  },
  {
   "cell_type": "code",
   "execution_count": 18,
   "id": "46e46adc",
   "metadata": {},
   "outputs": [],
   "source": [
    "Pop_Income_df['AVG_HH_Total_Income'] = Pop_Income_df.loc[:,['HH_Total_Income_2020', 'HH_Total_Income_2021', 'HH_Total_Income_2022']].mean(axis=1)"
   ]
  },
  {
   "cell_type": "code",
   "execution_count": 19,
   "id": "24c60e7e",
   "metadata": {},
   "outputs": [],
   "source": [
    "Pop_Income_df['AVG_PERCENT_UNDER10K'] = Pop_Income_df.loc[:,['Under10K_2020', 'Under10K_2021', 'Under10K_2022']].mean(axis=1)"
   ]
  },
  {
   "cell_type": "code",
   "execution_count": 20,
   "id": "caa0a548",
   "metadata": {},
   "outputs": [],
   "source": [
    "Pop_Income_df['AVG_PERCENT_OVER200K'] = Pop_Income_df.loc[:,['Over200K_2020','Over200K_2021', 'Over200K_2022']].mean(axis=1)"
   ]
  },
  {
   "cell_type": "code",
   "execution_count": 22,
   "id": "6b18bea8",
   "metadata": {},
   "outputs": [
    {
     "data": {
      "text/html": [
       "<div>\n",
       "<style scoped>\n",
       "    .dataframe tbody tr th:only-of-type {\n",
       "        vertical-align: middle;\n",
       "    }\n",
       "\n",
       "    .dataframe tbody tr th {\n",
       "        vertical-align: top;\n",
       "    }\n",
       "\n",
       "    .dataframe thead th {\n",
       "        text-align: right;\n",
       "    }\n",
       "</style>\n",
       "<table border=\"1\" class=\"dataframe\">\n",
       "  <thead>\n",
       "    <tr style=\"text-align: right;\">\n",
       "      <th></th>\n",
       "      <th>NAME</th>\n",
       "      <th>PPOPCHG_2020</th>\n",
       "      <th>PPOPCHG_2021</th>\n",
       "      <th>PPOPCHG_2022</th>\n",
       "      <th>HH_Total_Income_2020</th>\n",
       "      <th>HH_Total_Income_2021</th>\n",
       "      <th>HH_Total_Income_2022</th>\n",
       "      <th>Under10K_2020</th>\n",
       "      <th>Under10K_2021</th>\n",
       "      <th>Under10K_2022</th>\n",
       "      <th>Over200K_2020</th>\n",
       "      <th>Over200K_2021</th>\n",
       "      <th>Over200K_2022</th>\n",
       "      <th>AVG_PPOP_CHG</th>\n",
       "      <th>AVG_HH_Total_Income</th>\n",
       "      <th>AVG_PERCENT_UNDER10K</th>\n",
       "      <th>AVG_PERCENT_OVER200K</th>\n",
       "    </tr>\n",
       "  </thead>\n",
       "  <tbody>\n",
       "    <tr>\n",
       "      <th>0</th>\n",
       "      <td>Alabama</td>\n",
       "      <td>0.14</td>\n",
       "      <td>0.37</td>\n",
       "      <td>0.48</td>\n",
       "      <td>1888504</td>\n",
       "      <td>1967559</td>\n",
       "      <td>2016448</td>\n",
       "      <td>8.1</td>\n",
       "      <td>7.7</td>\n",
       "      <td>7.6</td>\n",
       "      <td>4.4</td>\n",
       "      <td>5.2</td>\n",
       "      <td>6.7</td>\n",
       "      <td>0.33</td>\n",
       "      <td>1957503.67</td>\n",
       "      <td>7.80</td>\n",
       "      <td>5.43</td>\n",
       "    </tr>\n",
       "    <tr>\n",
       "      <th>1</th>\n",
       "      <td>Alaska</td>\n",
       "      <td>-0.06</td>\n",
       "      <td>0.17</td>\n",
       "      <td>-0.08</td>\n",
       "      <td>255173</td>\n",
       "      <td>271311</td>\n",
       "      <td>274574</td>\n",
       "      <td>3.8</td>\n",
       "      <td>5.4</td>\n",
       "      <td>4.4</td>\n",
       "      <td>8.8</td>\n",
       "      <td>10.2</td>\n",
       "      <td>11.4</td>\n",
       "      <td>0.01</td>\n",
       "      <td>267019.33</td>\n",
       "      <td>4.53</td>\n",
       "      <td>10.13</td>\n",
       "    </tr>\n",
       "    <tr>\n",
       "      <th>2</th>\n",
       "      <td>Arizona</td>\n",
       "      <td>0.40</td>\n",
       "      <td>1.18</td>\n",
       "      <td>1.30</td>\n",
       "      <td>2643430</td>\n",
       "      <td>2817723</td>\n",
       "      <td>2850377</td>\n",
       "      <td>5.9</td>\n",
       "      <td>5.6</td>\n",
       "      <td>5.4</td>\n",
       "      <td>6.4</td>\n",
       "      <td>8.1</td>\n",
       "      <td>9.6</td>\n",
       "      <td>0.96</td>\n",
       "      <td>2770510.00</td>\n",
       "      <td>5.63</td>\n",
       "      <td>8.03</td>\n",
       "    </tr>\n",
       "    <tr>\n",
       "      <th>3</th>\n",
       "      <td>Arkansas</td>\n",
       "      <td>0.09</td>\n",
       "      <td>0.46</td>\n",
       "      <td>0.58</td>\n",
       "      <td>1170544</td>\n",
       "      <td>1183675</td>\n",
       "      <td>1216207</td>\n",
       "      <td>7.4</td>\n",
       "      <td>7.6</td>\n",
       "      <td>7.3</td>\n",
       "      <td>4.0</td>\n",
       "      <td>4.7</td>\n",
       "      <td>5.5</td>\n",
       "      <td>0.38</td>\n",
       "      <td>1190142.00</td>\n",
       "      <td>7.43</td>\n",
       "      <td>4.73</td>\n",
       "    </tr>\n",
       "    <tr>\n",
       "      <th>4</th>\n",
       "      <td>California</td>\n",
       "      <td>-0.09</td>\n",
       "      <td>-0.91</td>\n",
       "      <td>-0.29</td>\n",
       "      <td>13103114</td>\n",
       "      <td>13429063</td>\n",
       "      <td>13550586</td>\n",
       "      <td>4.7</td>\n",
       "      <td>5.3</td>\n",
       "      <td>4.8</td>\n",
       "      <td>13.3</td>\n",
       "      <td>15.5</td>\n",
       "      <td>18.0</td>\n",
       "      <td>-0.43</td>\n",
       "      <td>13360921.00</td>\n",
       "      <td>4.93</td>\n",
       "      <td>15.60</td>\n",
       "    </tr>\n",
       "  </tbody>\n",
       "</table>\n",
       "</div>"
      ],
      "text/plain": [
       "         NAME  PPOPCHG_2020  PPOPCHG_2021  PPOPCHG_2022  HH_Total_Income_2020  \\\n",
       "0     Alabama          0.14          0.37          0.48               1888504   \n",
       "1      Alaska         -0.06          0.17         -0.08                255173   \n",
       "2     Arizona          0.40          1.18          1.30               2643430   \n",
       "3    Arkansas          0.09          0.46          0.58               1170544   \n",
       "4  California         -0.09         -0.91         -0.29              13103114   \n",
       "\n",
       "   HH_Total_Income_2021  HH_Total_Income_2022  Under10K_2020  Under10K_2021  \\\n",
       "0               1967559               2016448            8.1            7.7   \n",
       "1                271311                274574            3.8            5.4   \n",
       "2               2817723               2850377            5.9            5.6   \n",
       "3               1183675               1216207            7.4            7.6   \n",
       "4              13429063              13550586            4.7            5.3   \n",
       "\n",
       "   Under10K_2022  Over200K_2020  Over200K_2021  Over200K_2022  AVG_PPOP_CHG  \\\n",
       "0            7.6            4.4            5.2            6.7          0.33   \n",
       "1            4.4            8.8           10.2           11.4          0.01   \n",
       "2            5.4            6.4            8.1            9.6          0.96   \n",
       "3            7.3            4.0            4.7            5.5          0.38   \n",
       "4            4.8           13.3           15.5           18.0         -0.43   \n",
       "\n",
       "   AVG_HH_Total_Income  AVG_PERCENT_UNDER10K  AVG_PERCENT_OVER200K  \n",
       "0           1957503.67                  7.80                  5.43  \n",
       "1            267019.33                  4.53                 10.13  \n",
       "2           2770510.00                  5.63                  8.03  \n",
       "3           1190142.00                  7.43                  4.73  \n",
       "4          13360921.00                  4.93                 15.60  "
      ]
     },
     "execution_count": 22,
     "metadata": {},
     "output_type": "execute_result"
    }
   ],
   "source": [
    "# Round total income data to 2 decimal places\n",
    "\n",
    "round(Pop_Income_df.head(),2)"
   ]
  },
  {
   "cell_type": "code",
   "execution_count": 23,
   "id": "5a8815b5",
   "metadata": {},
   "outputs": [
    {
     "data": {
      "text/html": [
       "<div>\n",
       "<style scoped>\n",
       "    .dataframe tbody tr th:only-of-type {\n",
       "        vertical-align: middle;\n",
       "    }\n",
       "\n",
       "    .dataframe tbody tr th {\n",
       "        vertical-align: top;\n",
       "    }\n",
       "\n",
       "    .dataframe thead th {\n",
       "        text-align: right;\n",
       "    }\n",
       "</style>\n",
       "<table border=\"1\" class=\"dataframe\">\n",
       "  <thead>\n",
       "    <tr style=\"text-align: right;\">\n",
       "      <th></th>\n",
       "      <th>AVG_HH_Total_Income</th>\n",
       "      <th>AVG_PERCENT_UNDER10K</th>\n",
       "      <th>AVG_PERCENT_OVER200K</th>\n",
       "      <th>AVG_PPOP_CHG</th>\n",
       "    </tr>\n",
       "  </thead>\n",
       "  <tbody>\n",
       "    <tr>\n",
       "      <th>0</th>\n",
       "      <td>1.957504e+06</td>\n",
       "      <td>7.800000</td>\n",
       "      <td>5.433333</td>\n",
       "      <td>0.330330</td>\n",
       "    </tr>\n",
       "    <tr>\n",
       "      <th>1</th>\n",
       "      <td>2.670193e+05</td>\n",
       "      <td>4.533333</td>\n",
       "      <td>10.133333</td>\n",
       "      <td>0.009383</td>\n",
       "    </tr>\n",
       "    <tr>\n",
       "      <th>2</th>\n",
       "      <td>2.770510e+06</td>\n",
       "      <td>5.633333</td>\n",
       "      <td>8.033333</td>\n",
       "      <td>0.959619</td>\n",
       "    </tr>\n",
       "    <tr>\n",
       "      <th>3</th>\n",
       "      <td>1.190142e+06</td>\n",
       "      <td>7.433333</td>\n",
       "      <td>4.733333</td>\n",
       "      <td>0.376040</td>\n",
       "    </tr>\n",
       "    <tr>\n",
       "      <th>4</th>\n",
       "      <td>1.336092e+07</td>\n",
       "      <td>4.933333</td>\n",
       "      <td>15.600000</td>\n",
       "      <td>-0.430286</td>\n",
       "    </tr>\n",
       "  </tbody>\n",
       "</table>\n",
       "</div>"
      ],
      "text/plain": [
       "   AVG_HH_Total_Income  AVG_PERCENT_UNDER10K  AVG_PERCENT_OVER200K  \\\n",
       "0         1.957504e+06              7.800000              5.433333   \n",
       "1         2.670193e+05              4.533333             10.133333   \n",
       "2         2.770510e+06              5.633333              8.033333   \n",
       "3         1.190142e+06              7.433333              4.733333   \n",
       "4         1.336092e+07              4.933333             15.600000   \n",
       "\n",
       "   AVG_PPOP_CHG  \n",
       "0      0.330330  \n",
       "1      0.009383  \n",
       "2      0.959619  \n",
       "3      0.376040  \n",
       "4     -0.430286  "
      ]
     },
     "execution_count": 23,
     "metadata": {},
     "output_type": "execute_result"
    }
   ],
   "source": [
    "Train_Test_df = Pop_Income_df.loc[:, ['AVG_HH_Total_Income',\n",
    "       'AVG_PERCENT_UNDER10K', 'AVG_PERCENT_OVER200K','AVG_PPOP_CHG']]\n",
    "Train_Test_df.head()"
   ]
  },
  {
   "cell_type": "code",
   "execution_count": 24,
   "id": "cc723f74",
   "metadata": {},
   "outputs": [
    {
     "data": {
      "text/plain": [
       "Index(['AVG_HH_Total_Income', 'AVG_PERCENT_UNDER10K', 'AVG_PERCENT_OVER200K',\n",
       "       'AVG_PPOP_CHG'],\n",
       "      dtype='object')"
      ]
     },
     "execution_count": 24,
     "metadata": {},
     "output_type": "execute_result"
    }
   ],
   "source": [
    "Train_Test_df.columns"
   ]
  },
  {
   "cell_type": "code",
   "execution_count": 25,
   "id": "0a9c3edb",
   "metadata": {},
   "outputs": [],
   "source": [
    "X = Train_Test_df.loc[:,['AVG_HH_Total_Income', 'AVG_PERCENT_UNDER10K', 'AVG_PERCENT_OVER200K']]\n",
    "y = Train_Test_df['AVG_PPOP_CHG'].values"
   ]
  },
  {
   "cell_type": "code",
   "execution_count": 26,
   "id": "84fd5a6b",
   "metadata": {},
   "outputs": [
    {
     "data": {
      "text/html": [
       "<div>\n",
       "<style scoped>\n",
       "    .dataframe tbody tr th:only-of-type {\n",
       "        vertical-align: middle;\n",
       "    }\n",
       "\n",
       "    .dataframe tbody tr th {\n",
       "        vertical-align: top;\n",
       "    }\n",
       "\n",
       "    .dataframe thead th {\n",
       "        text-align: right;\n",
       "    }\n",
       "</style>\n",
       "<table border=\"1\" class=\"dataframe\">\n",
       "  <thead>\n",
       "    <tr style=\"text-align: right;\">\n",
       "      <th></th>\n",
       "      <th>AVG_HH_Total_Income</th>\n",
       "      <th>AVG_PERCENT_UNDER10K</th>\n",
       "      <th>AVG_PERCENT_OVER200K</th>\n",
       "    </tr>\n",
       "  </thead>\n",
       "  <tbody>\n",
       "    <tr>\n",
       "      <th>0</th>\n",
       "      <td>1.957504e+06</td>\n",
       "      <td>7.800000</td>\n",
       "      <td>5.433333</td>\n",
       "    </tr>\n",
       "    <tr>\n",
       "      <th>1</th>\n",
       "      <td>2.670193e+05</td>\n",
       "      <td>4.533333</td>\n",
       "      <td>10.133333</td>\n",
       "    </tr>\n",
       "    <tr>\n",
       "      <th>2</th>\n",
       "      <td>2.770510e+06</td>\n",
       "      <td>5.633333</td>\n",
       "      <td>8.033333</td>\n",
       "    </tr>\n",
       "    <tr>\n",
       "      <th>3</th>\n",
       "      <td>1.190142e+06</td>\n",
       "      <td>7.433333</td>\n",
       "      <td>4.733333</td>\n",
       "    </tr>\n",
       "    <tr>\n",
       "      <th>4</th>\n",
       "      <td>1.336092e+07</td>\n",
       "      <td>4.933333</td>\n",
       "      <td>15.600000</td>\n",
       "    </tr>\n",
       "  </tbody>\n",
       "</table>\n",
       "</div>"
      ],
      "text/plain": [
       "   AVG_HH_Total_Income  AVG_PERCENT_UNDER10K  AVG_PERCENT_OVER200K\n",
       "0         1.957504e+06              7.800000              5.433333\n",
       "1         2.670193e+05              4.533333             10.133333\n",
       "2         2.770510e+06              5.633333              8.033333\n",
       "3         1.190142e+06              7.433333              4.733333\n",
       "4         1.336092e+07              4.933333             15.600000"
      ]
     },
     "execution_count": 26,
     "metadata": {},
     "output_type": "execute_result"
    }
   ],
   "source": [
    "# Display sample data\n",
    "X.head()"
   ]
  },
  {
   "cell_type": "code",
   "execution_count": 27,
   "id": "0f672393",
   "metadata": {},
   "outputs": [
    {
     "data": {
      "text/plain": [
       "array([ 0.33032987,  0.00938295,  0.95961936,  0.37604025, -0.4302862 ])"
      ]
     },
     "execution_count": 27,
     "metadata": {},
     "output_type": "execute_result"
    }
   ],
   "source": [
    "y[:5]"
   ]
  },
  {
   "cell_type": "code",
   "execution_count": 28,
   "id": "41ab8ca4",
   "metadata": {},
   "outputs": [],
   "source": [
    "# train, test, split\n",
    "\n",
    "X_train, X_test, y_train, y_test = \\\n",
    "  train_test_split(X,y,test_size=0.2,random_state=42)"
   ]
  },
  {
   "cell_type": "code",
   "execution_count": 29,
   "id": "784425da",
   "metadata": {},
   "outputs": [
    {
     "name": "stdout",
     "output_type": "stream",
     "text": [
      "Training (41, 3)\n",
      "Training Label 41\n",
      "Test (11, 3)\n",
      "Test Label 11\n"
     ]
    }
   ],
   "source": [
    "# show shape and labels\n",
    "\n",
    "print('Training', X_train.shape)\n",
    "print('Training Label', len(y_train))\n",
    "print('Test', X_test.shape)\n",
    "print('Test Label', len(y_test))"
   ]
  },
  {
   "cell_type": "code",
   "execution_count": 31,
   "id": "67ea8919",
   "metadata": {},
   "outputs": [],
   "source": [
    "# Use colTransformer to standardize, scale the data\n",
    "\n",
    "colTransformer = ColumnTransformer([('standardize',\n",
    "                                     StandardScaler(),\n",
    "                                     ['AVG_HH_Total_Income', 'AVG_PERCENT_UNDER10K', 'AVG_PERCENT_OVER200K'])],\n",
    "                                   remainder=\"passthrough\")"
   ]
  },
  {
   "cell_type": "code",
   "execution_count": 32,
   "id": "4903d246",
   "metadata": {},
   "outputs": [
    {
     "data": {
      "text/html": [
       "<style>#sk-container-id-1 {color: black;background-color: white;}#sk-container-id-1 pre{padding: 0;}#sk-container-id-1 div.sk-toggleable {background-color: white;}#sk-container-id-1 label.sk-toggleable__label {cursor: pointer;display: block;width: 100%;margin-bottom: 0;padding: 0.3em;box-sizing: border-box;text-align: center;}#sk-container-id-1 label.sk-toggleable__label-arrow:before {content: \"▸\";float: left;margin-right: 0.25em;color: #696969;}#sk-container-id-1 label.sk-toggleable__label-arrow:hover:before {color: black;}#sk-container-id-1 div.sk-estimator:hover label.sk-toggleable__label-arrow:before {color: black;}#sk-container-id-1 div.sk-toggleable__content {max-height: 0;max-width: 0;overflow: hidden;text-align: left;background-color: #f0f8ff;}#sk-container-id-1 div.sk-toggleable__content pre {margin: 0.2em;color: black;border-radius: 0.25em;background-color: #f0f8ff;}#sk-container-id-1 input.sk-toggleable__control:checked~div.sk-toggleable__content {max-height: 200px;max-width: 100%;overflow: auto;}#sk-container-id-1 input.sk-toggleable__control:checked~label.sk-toggleable__label-arrow:before {content: \"▾\";}#sk-container-id-1 div.sk-estimator input.sk-toggleable__control:checked~label.sk-toggleable__label {background-color: #d4ebff;}#sk-container-id-1 div.sk-label input.sk-toggleable__control:checked~label.sk-toggleable__label {background-color: #d4ebff;}#sk-container-id-1 input.sk-hidden--visually {border: 0;clip: rect(1px 1px 1px 1px);clip: rect(1px, 1px, 1px, 1px);height: 1px;margin: -1px;overflow: hidden;padding: 0;position: absolute;width: 1px;}#sk-container-id-1 div.sk-estimator {font-family: monospace;background-color: #f0f8ff;border: 1px dotted black;border-radius: 0.25em;box-sizing: border-box;margin-bottom: 0.5em;}#sk-container-id-1 div.sk-estimator:hover {background-color: #d4ebff;}#sk-container-id-1 div.sk-parallel-item::after {content: \"\";width: 100%;border-bottom: 1px solid gray;flex-grow: 1;}#sk-container-id-1 div.sk-label:hover label.sk-toggleable__label {background-color: #d4ebff;}#sk-container-id-1 div.sk-serial::before {content: \"\";position: absolute;border-left: 1px solid gray;box-sizing: border-box;top: 0;bottom: 0;left: 50%;z-index: 0;}#sk-container-id-1 div.sk-serial {display: flex;flex-direction: column;align-items: center;background-color: white;padding-right: 0.2em;padding-left: 0.2em;position: relative;}#sk-container-id-1 div.sk-item {position: relative;z-index: 1;}#sk-container-id-1 div.sk-parallel {display: flex;align-items: stretch;justify-content: center;background-color: white;position: relative;}#sk-container-id-1 div.sk-item::before, #sk-container-id-1 div.sk-parallel-item::before {content: \"\";position: absolute;border-left: 1px solid gray;box-sizing: border-box;top: 0;bottom: 0;left: 50%;z-index: -1;}#sk-container-id-1 div.sk-parallel-item {display: flex;flex-direction: column;z-index: 1;position: relative;background-color: white;}#sk-container-id-1 div.sk-parallel-item:first-child::after {align-self: flex-end;width: 50%;}#sk-container-id-1 div.sk-parallel-item:last-child::after {align-self: flex-start;width: 50%;}#sk-container-id-1 div.sk-parallel-item:only-child::after {width: 0;}#sk-container-id-1 div.sk-dashed-wrapped {border: 1px dashed gray;margin: 0 0.4em 0.5em 0.4em;box-sizing: border-box;padding-bottom: 0.4em;background-color: white;}#sk-container-id-1 div.sk-label label {font-family: monospace;font-weight: bold;display: inline-block;line-height: 1.2em;}#sk-container-id-1 div.sk-label-container {text-align: center;}#sk-container-id-1 div.sk-container {/* jupyter's `normalize.less` sets `[hidden] { display: none; }` but bootstrap.min.css set `[hidden] { display: none !important; }` so we also need the `!important` here to be able to override the default hidden behavior on the sphinx rendered scikit-learn.org. See: https://github.com/scikit-learn/scikit-learn/issues/21755 */display: inline-block !important;position: relative;}#sk-container-id-1 div.sk-text-repr-fallback {display: none;}</style><div id=\"sk-container-id-1\" class=\"sk-top-container\"><div class=\"sk-text-repr-fallback\"><pre>ColumnTransformer(remainder=&#x27;passthrough&#x27;,\n",
       "                  transformers=[(&#x27;standardize&#x27;, StandardScaler(),\n",
       "                                 [&#x27;AVG_HH_Total_Income&#x27;, &#x27;AVG_PERCENT_UNDER10K&#x27;,\n",
       "                                  &#x27;AVG_PERCENT_OVER200K&#x27;])])</pre><b>In a Jupyter environment, please rerun this cell to show the HTML representation or trust the notebook. <br />On GitHub, the HTML representation is unable to render, please try loading this page with nbviewer.org.</b></div><div class=\"sk-container\" hidden><div class=\"sk-item sk-dashed-wrapped\"><div class=\"sk-label-container\"><div class=\"sk-label sk-toggleable\"><input class=\"sk-toggleable__control sk-hidden--visually\" id=\"sk-estimator-id-1\" type=\"checkbox\" ><label for=\"sk-estimator-id-1\" class=\"sk-toggleable__label sk-toggleable__label-arrow\">ColumnTransformer</label><div class=\"sk-toggleable__content\"><pre>ColumnTransformer(remainder=&#x27;passthrough&#x27;,\n",
       "                  transformers=[(&#x27;standardize&#x27;, StandardScaler(),\n",
       "                                 [&#x27;AVG_HH_Total_Income&#x27;, &#x27;AVG_PERCENT_UNDER10K&#x27;,\n",
       "                                  &#x27;AVG_PERCENT_OVER200K&#x27;])])</pre></div></div></div><div class=\"sk-parallel\"><div class=\"sk-parallel-item\"><div class=\"sk-item\"><div class=\"sk-label-container\"><div class=\"sk-label sk-toggleable\"><input class=\"sk-toggleable__control sk-hidden--visually\" id=\"sk-estimator-id-2\" type=\"checkbox\" ><label for=\"sk-estimator-id-2\" class=\"sk-toggleable__label sk-toggleable__label-arrow\">standardize</label><div class=\"sk-toggleable__content\"><pre>[&#x27;AVG_HH_Total_Income&#x27;, &#x27;AVG_PERCENT_UNDER10K&#x27;, &#x27;AVG_PERCENT_OVER200K&#x27;]</pre></div></div></div><div class=\"sk-serial\"><div class=\"sk-item\"><div class=\"sk-estimator sk-toggleable\"><input class=\"sk-toggleable__control sk-hidden--visually\" id=\"sk-estimator-id-3\" type=\"checkbox\" ><label for=\"sk-estimator-id-3\" class=\"sk-toggleable__label sk-toggleable__label-arrow\">StandardScaler</label><div class=\"sk-toggleable__content\"><pre>StandardScaler()</pre></div></div></div></div></div></div><div class=\"sk-parallel-item\"><div class=\"sk-item\"><div class=\"sk-label-container\"><div class=\"sk-label sk-toggleable\"><input class=\"sk-toggleable__control sk-hidden--visually\" id=\"sk-estimator-id-4\" type=\"checkbox\" ><label for=\"sk-estimator-id-4\" class=\"sk-toggleable__label sk-toggleable__label-arrow\">remainder</label><div class=\"sk-toggleable__content\"><pre>[]</pre></div></div></div><div class=\"sk-serial\"><div class=\"sk-item\"><div class=\"sk-estimator sk-toggleable\"><input class=\"sk-toggleable__control sk-hidden--visually\" id=\"sk-estimator-id-5\" type=\"checkbox\" ><label for=\"sk-estimator-id-5\" class=\"sk-toggleable__label sk-toggleable__label-arrow\">passthrough</label><div class=\"sk-toggleable__content\"><pre>passthrough</pre></div></div></div></div></div></div></div></div></div></div>"
      ],
      "text/plain": [
       "ColumnTransformer(remainder='passthrough',\n",
       "                  transformers=[('standardize', StandardScaler(),\n",
       "                                 ['AVG_HH_Total_Income', 'AVG_PERCENT_UNDER10K',\n",
       "                                  'AVG_PERCENT_OVER200K'])])"
      ]
     },
     "execution_count": 32,
     "metadata": {},
     "output_type": "execute_result"
    }
   ],
   "source": [
    "colTransformer.fit(X_train)"
   ]
  },
  {
   "cell_type": "code",
   "execution_count": 33,
   "id": "c4a048d2",
   "metadata": {},
   "outputs": [],
   "source": [
    "X_train = colTransformer.transform(X_train)"
   ]
  },
  {
   "cell_type": "code",
   "execution_count": 34,
   "id": "6dd0f10f",
   "metadata": {},
   "outputs": [],
   "source": [
    "X_test = colTransformer.transform(X_test)"
   ]
  },
  {
   "cell_type": "code",
   "execution_count": 35,
   "id": "7cc13c24",
   "metadata": {},
   "outputs": [],
   "source": [
    "model = LinearRegression()"
   ]
  },
  {
   "cell_type": "code",
   "execution_count": 36,
   "id": "ee2a0c64",
   "metadata": {},
   "outputs": [
    {
     "data": {
      "text/html": [
       "<style>#sk-container-id-2 {color: black;background-color: white;}#sk-container-id-2 pre{padding: 0;}#sk-container-id-2 div.sk-toggleable {background-color: white;}#sk-container-id-2 label.sk-toggleable__label {cursor: pointer;display: block;width: 100%;margin-bottom: 0;padding: 0.3em;box-sizing: border-box;text-align: center;}#sk-container-id-2 label.sk-toggleable__label-arrow:before {content: \"▸\";float: left;margin-right: 0.25em;color: #696969;}#sk-container-id-2 label.sk-toggleable__label-arrow:hover:before {color: black;}#sk-container-id-2 div.sk-estimator:hover label.sk-toggleable__label-arrow:before {color: black;}#sk-container-id-2 div.sk-toggleable__content {max-height: 0;max-width: 0;overflow: hidden;text-align: left;background-color: #f0f8ff;}#sk-container-id-2 div.sk-toggleable__content pre {margin: 0.2em;color: black;border-radius: 0.25em;background-color: #f0f8ff;}#sk-container-id-2 input.sk-toggleable__control:checked~div.sk-toggleable__content {max-height: 200px;max-width: 100%;overflow: auto;}#sk-container-id-2 input.sk-toggleable__control:checked~label.sk-toggleable__label-arrow:before {content: \"▾\";}#sk-container-id-2 div.sk-estimator input.sk-toggleable__control:checked~label.sk-toggleable__label {background-color: #d4ebff;}#sk-container-id-2 div.sk-label input.sk-toggleable__control:checked~label.sk-toggleable__label {background-color: #d4ebff;}#sk-container-id-2 input.sk-hidden--visually {border: 0;clip: rect(1px 1px 1px 1px);clip: rect(1px, 1px, 1px, 1px);height: 1px;margin: -1px;overflow: hidden;padding: 0;position: absolute;width: 1px;}#sk-container-id-2 div.sk-estimator {font-family: monospace;background-color: #f0f8ff;border: 1px dotted black;border-radius: 0.25em;box-sizing: border-box;margin-bottom: 0.5em;}#sk-container-id-2 div.sk-estimator:hover {background-color: #d4ebff;}#sk-container-id-2 div.sk-parallel-item::after {content: \"\";width: 100%;border-bottom: 1px solid gray;flex-grow: 1;}#sk-container-id-2 div.sk-label:hover label.sk-toggleable__label {background-color: #d4ebff;}#sk-container-id-2 div.sk-serial::before {content: \"\";position: absolute;border-left: 1px solid gray;box-sizing: border-box;top: 0;bottom: 0;left: 50%;z-index: 0;}#sk-container-id-2 div.sk-serial {display: flex;flex-direction: column;align-items: center;background-color: white;padding-right: 0.2em;padding-left: 0.2em;position: relative;}#sk-container-id-2 div.sk-item {position: relative;z-index: 1;}#sk-container-id-2 div.sk-parallel {display: flex;align-items: stretch;justify-content: center;background-color: white;position: relative;}#sk-container-id-2 div.sk-item::before, #sk-container-id-2 div.sk-parallel-item::before {content: \"\";position: absolute;border-left: 1px solid gray;box-sizing: border-box;top: 0;bottom: 0;left: 50%;z-index: -1;}#sk-container-id-2 div.sk-parallel-item {display: flex;flex-direction: column;z-index: 1;position: relative;background-color: white;}#sk-container-id-2 div.sk-parallel-item:first-child::after {align-self: flex-end;width: 50%;}#sk-container-id-2 div.sk-parallel-item:last-child::after {align-self: flex-start;width: 50%;}#sk-container-id-2 div.sk-parallel-item:only-child::after {width: 0;}#sk-container-id-2 div.sk-dashed-wrapped {border: 1px dashed gray;margin: 0 0.4em 0.5em 0.4em;box-sizing: border-box;padding-bottom: 0.4em;background-color: white;}#sk-container-id-2 div.sk-label label {font-family: monospace;font-weight: bold;display: inline-block;line-height: 1.2em;}#sk-container-id-2 div.sk-label-container {text-align: center;}#sk-container-id-2 div.sk-container {/* jupyter's `normalize.less` sets `[hidden] { display: none; }` but bootstrap.min.css set `[hidden] { display: none !important; }` so we also need the `!important` here to be able to override the default hidden behavior on the sphinx rendered scikit-learn.org. See: https://github.com/scikit-learn/scikit-learn/issues/21755 */display: inline-block !important;position: relative;}#sk-container-id-2 div.sk-text-repr-fallback {display: none;}</style><div id=\"sk-container-id-2\" class=\"sk-top-container\"><div class=\"sk-text-repr-fallback\"><pre>LinearRegression()</pre><b>In a Jupyter environment, please rerun this cell to show the HTML representation or trust the notebook. <br />On GitHub, the HTML representation is unable to render, please try loading this page with nbviewer.org.</b></div><div class=\"sk-container\" hidden><div class=\"sk-item\"><div class=\"sk-estimator sk-toggleable\"><input class=\"sk-toggleable__control sk-hidden--visually\" id=\"sk-estimator-id-6\" type=\"checkbox\" checked><label for=\"sk-estimator-id-6\" class=\"sk-toggleable__label sk-toggleable__label-arrow\">LinearRegression</label><div class=\"sk-toggleable__content\"><pre>LinearRegression()</pre></div></div></div></div></div>"
      ],
      "text/plain": [
       "LinearRegression()"
      ]
     },
     "execution_count": 36,
     "metadata": {},
     "output_type": "execute_result"
    }
   ],
   "source": [
    "model.fit(X_train, y_train)"
   ]
  },
  {
   "cell_type": "code",
   "execution_count": 37,
   "id": "7a181e1e",
   "metadata": {},
   "outputs": [],
   "source": [
    "pred = model.predict(X_test)"
   ]
  },
  {
   "cell_type": "code",
   "execution_count": 38,
   "id": "05e92378",
   "metadata": {},
   "outputs": [
    {
     "data": {
      "text/plain": [
       "(0.18243064934146347, array([ 0.02175261, -0.25656586, -0.22288243]))"
      ]
     },
     "execution_count": 38,
     "metadata": {},
     "output_type": "execute_result"
    }
   ],
   "source": [
    "model.intercept_, model.coef_"
   ]
  },
  {
   "cell_type": "code",
   "execution_count": 39,
   "id": "dec9fb17",
   "metadata": {},
   "outputs": [
    {
     "data": {
      "text/plain": [
       "array([ 0.37893826,  0.42987143,  0.06576367,  0.44735089,  0.26807433,\n",
       "        0.14638223,  0.25806814,  0.38648526,  0.29314355, -0.04480252,\n",
       "        0.13990485])"
      ]
     },
     "execution_count": 39,
     "metadata": {},
     "output_type": "execute_result"
    }
   ],
   "source": [
    "# show predicted values\n",
    "pred"
   ]
  },
  {
   "cell_type": "code",
   "execution_count": 40,
   "id": "c2b80e46",
   "metadata": {},
   "outputs": [
    {
     "data": {
      "text/plain": [
       "array([ 0.56028957,  0.86434408,  0.34734686,  1.78440554,  1.00254532,\n",
       "        0.38078819,  0.04746681,  0.2619363 ,  0.37604025, -0.87182791,\n",
       "       -0.60293555])"
      ]
     },
     "execution_count": 40,
     "metadata": {},
     "output_type": "execute_result"
    }
   ],
   "source": [
    "# show true values\n",
    "y_test"
   ]
  },
  {
   "cell_type": "code",
   "execution_count": 41,
   "id": "cd13a910",
   "metadata": {},
   "outputs": [],
   "source": [
    "# Measure the error\n",
    "rmse_error = mean_squared_error(y_test, pred)**0.5"
   ]
  },
  {
   "cell_type": "code",
   "execution_count": 42,
   "id": "79ea99a7",
   "metadata": {},
   "outputs": [
    {
     "name": "stdout",
     "output_type": "stream",
     "text": [
      "RMSE: 0.602\n"
     ]
    }
   ],
   "source": [
    "\n",
    "print(f\"RMSE: {rmse_error:0.3f}\")"
   ]
  },
  {
   "cell_type": "code",
   "execution_count": 43,
   "id": "d33a6a05",
   "metadata": {},
   "outputs": [
    {
     "data": {
      "text/plain": [
       "Text(0.5, 1.0, 'Population Change')"
      ]
     },
     "execution_count": 43,
     "metadata": {},
     "output_type": "execute_result"
    },
    {
     "data": {
      "image/png": "[encoded data removed]",
      "text/plain": [
       "<Figure size 640x480 with 1 Axes>"
      ]
     },
     "metadata": {},
     "output_type": "display_data"
    }
   ],
   "source": [
    "# Plot to show the test and prediction data\n",
    "\n",
    "plt.plot(y_test, label='Test')\n",
    "plt.plot(pred, label='Pred')\n",
    "plt.legend()\n",
    "plt.title('Population Change')"
   ]
  },
  {
   "cell_type": "code",
   "execution_count": null,
   "id": "ccd6f410",
   "metadata": {},
   "outputs": [],
   "source": []
  }
 ],
 "metadata": {
  "kernelspec": {
   "display_name": "Python 3 (ipykernel)",
   "language": "python",
   "name": "python3"
  },
  "language_info": {
   "codemirror_mode": {
    "name": "ipython",
    "version": 3
   },
   "file_extension": ".py",
   "mimetype": "text/x-python",
   "name": "python",
   "nbconvert_exporter": "python",
   "pygments_lexer": "ipython3",
   "version": "3.10.9"
  }
 },
 "nbformat": 4,
 "nbformat_minor": 5
}
