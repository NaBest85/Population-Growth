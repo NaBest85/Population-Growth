{
 "cells": [
  {
   "cell_type": "code",
   "execution_count": 1,
   "id": "fd36cebf",
   "metadata": {},
   "outputs": [],
   "source": [
    "import pandas as pd"
   ]
  },
  {
   "cell_type": "code",
   "execution_count": 2,
   "id": "fa8aaa77",
   "metadata": {},
   "outputs": [],
   "source": [
    "#Load each csv into a DataFrame\n",
    "df_2022 = pd.read_csv('Household Income 2022.csv')\n",
    "df_2021 = pd.read_csv('Household Income 2021.csv')\n",
    "df_2020 = pd.read_csv('Household Income 2020.csv')\n"
   ]
  },
  {
   "cell_type": "code",
   "execution_count": 3,
   "id": "09562057",
   "metadata": {},
   "outputs": [],
   "source": [
    "#create a year column for each DataFrame to show the year\n",
    "df_2022['Year'] = 2022\n",
    "df_2021['Year'] = 2021\n",
    "df_2020['Year'] = 2020"
   ]
  },
  {
   "cell_type": "code",
   "execution_count": 6,
   "id": "72939325",
   "metadata": {},
   "outputs": [
    {
     "data": {
      "text/html": [
       "<div>\n",
       "<style scoped>\n",
       "    .dataframe tbody tr th:only-of-type {\n",
       "        vertical-align: middle;\n",
       "    }\n",
       "\n",
       "    .dataframe tbody tr th {\n",
       "        vertical-align: top;\n",
       "    }\n",
       "\n",
       "    .dataframe thead th {\n",
       "        text-align: right;\n",
       "    }\n",
       "</style>\n",
       "<table border=\"1\" class=\"dataframe\">\n",
       "  <thead>\n",
       "    <tr style=\"text-align: right;\">\n",
       "      <th></th>\n",
       "      <th>NAME</th>\n",
       "      <th>Households Total Income</th>\n",
       "      <th>Households with Income under $10,000</th>\n",
       "      <th>Households with Income of $200,000 or more</th>\n",
       "      <th>Year</th>\n",
       "    </tr>\n",
       "  </thead>\n",
       "  <tbody>\n",
       "    <tr>\n",
       "      <th>0</th>\n",
       "      <td>Alabama</td>\n",
       "      <td>2016448</td>\n",
       "      <td>7.6</td>\n",
       "      <td>6.7</td>\n",
       "      <td>2022</td>\n",
       "    </tr>\n",
       "    <tr>\n",
       "      <th>1</th>\n",
       "      <td>Alaska</td>\n",
       "      <td>274574</td>\n",
       "      <td>4.4</td>\n",
       "      <td>11.4</td>\n",
       "      <td>2022</td>\n",
       "    </tr>\n",
       "    <tr>\n",
       "      <th>2</th>\n",
       "      <td>Arizona</td>\n",
       "      <td>2850377</td>\n",
       "      <td>5.4</td>\n",
       "      <td>9.6</td>\n",
       "      <td>2022</td>\n",
       "    </tr>\n",
       "    <tr>\n",
       "      <th>3</th>\n",
       "      <td>Arkansas</td>\n",
       "      <td>1216207</td>\n",
       "      <td>7.3</td>\n",
       "      <td>5.5</td>\n",
       "      <td>2022</td>\n",
       "    </tr>\n",
       "    <tr>\n",
       "      <th>4</th>\n",
       "      <td>California</td>\n",
       "      <td>13550586</td>\n",
       "      <td>4.8</td>\n",
       "      <td>18.0</td>\n",
       "      <td>2022</td>\n",
       "    </tr>\n",
       "  </tbody>\n",
       "</table>\n",
       "</div>"
      ],
      "text/plain": [
       "         NAME  Households Total Income  Households with Income under $10,000  \\\n",
       "0     Alabama                  2016448                                   7.6   \n",
       "1      Alaska                   274574                                   4.4   \n",
       "2     Arizona                  2850377                                   5.4   \n",
       "3    Arkansas                  1216207                                   7.3   \n",
       "4  California                 13550586                                   4.8   \n",
       "\n",
       "   Households with Income of $200,000 or more  Year  \n",
       "0                                         6.7  2022  \n",
       "1                                        11.4  2022  \n",
       "2                                         9.6  2022  \n",
       "3                                         5.5  2022  \n",
       "4                                        18.0  2022  "
      ]
     },
     "execution_count": 6,
     "metadata": {},
     "output_type": "execute_result"
    }
   ],
   "source": [
    "#cooncatenate the DataFrames\n",
    "combined_df = pd.concat([df_2022, df_2021, df_2020], ignore_index=True)\n",
    "combined_df.head()"
   ]
  },
  {
   "cell_type": "code",
   "execution_count": 7,
   "id": "a4c12d9e",
   "metadata": {},
   "outputs": [],
   "source": [
    "combined_df.to_csv('Combined_Household_Income.csv', index=False)"
   ]
  },
  {
   "cell_type": "code",
   "execution_count": null,
   "id": "4f216e98",
   "metadata": {},
   "outputs": [],
   "source": [
    "combined_df = pd.read_csv('Combined_Household_Income.csv')\n",
    "combined_df"
   ]
  }
 ],
 "metadata": {
  "kernelspec": {
   "display_name": "Python 3 (ipykernel)",
   "language": "python",
   "name": "python3"
  },
  "language_info": {
   "codemirror_mode": {
    "name": "ipython",
    "version": 3
   },
   "file_extension": ".py",
   "mimetype": "text/x-python",
   "name": "python",
   "nbconvert_exporter": "python",
   "pygments_lexer": "ipython3",
   "version": "3.10.9"
  }
 },
 "nbformat": 4,
 "nbformat_minor": 5
}
